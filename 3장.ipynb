{
 "cells": [
  {
   "cell_type": "markdown",
   "metadata": {},
   "source": [
    "<a href=\"https://colab.research.google.com/github/teacher-jiejie/Lets-get-it-Python-Lecture/blob/main/3%EC%9E%A5_(%EC%8B%A4%EC%8A%B5%EC%9A%A9)_%EB%B3%80%EC%88%98.ipynb\" target=\"_parent\"><img src=\"https://colab.research.google.com/assets/colab-badge.svg\" alt=\"Open In Colab\"/></a>"
   ]
  },
  {
   "cell_type": "markdown",
   "metadata": {},
   "source": [
    "# 1. 변수\n",
    "\n",
    "\n",
    "> 변수이름 = 저장할 데이터  \n",
    "수학에서 변수는 '여러 값으로 변하는 수'를 의미합니다.  \n",
    "b=a+1처럼 문자와 숫자를 기호로 연결해 계산하는 수식에서  \n",
    "a는 10일 때 b=11이 되고, a가 20이면 b=21이 됩니다.  \n",
    "이렇게 수식안에서 여러 값으로 변하는 a,b를 변수라고 합니다. \n",
    "\n",
    "<img src = 'https://github.com/teacher-jiejie/allinone_AI/blob/images/%E1%84%87%E1%85%A7%E1%86%AB%E1%84%89%E1%85%AE%E1%84%8B%E1%85%B5%E1%84%86%E1%85%B5%E1%84%8C%E1%85%B5.png?raw=true' width =500>\n",
    "\n",
    "\n"
   ]
  },
  {
   "cell_type": "markdown",
   "metadata": {},
   "source": [
    "컴퓨터는 a=10이라는 코드를 읽으면 컴퓨터에서 사용할 수 있는 빈공간을 찾습니다.   \n",
    "그리고 찾은 공간에 a라는 이름을 붙이고 값인 10을 저장합니다.   \n",
    "이렇게 컴퓨터에 변수가 만들어지는데, 처음 저장하는 값은 초깃값이라고 합니다.  \n",
    "이렇게 초깃값을 저장하는 작업을 변수를 정의한다고 합니다.\n"
   ]
  },
  {
   "cell_type": "code",
   "execution_count": null,
   "metadata": {},
   "outputs": [],
   "source": [
    "## 실습 1\n",
    "a=10\n",
    "print(a)"
   ]
  },
  {
   "cell_type": "markdown",
   "metadata": {},
   "source": [
    "### <작은 따옴표>\n",
    "작은 따옴표가 양옆에 붙으면 문자로 인식하여  \n",
    "print('a')는 문자 a를 그대로 출력합니다. "
   ]
  },
  {
   "cell_type": "code",
   "execution_count": null,
   "metadata": {},
   "outputs": [],
   "source": [
    "## 실습2\n",
    "a=10\n",
    "print('a')\n",
    "print(a)"
   ]
  },
  {
   "cell_type": "markdown",
   "metadata": {},
   "source": [
    "#### 예제 1. 변수를 활용하여 연산하기 \n",
    "1) 과일 가격 계산하기  \n",
    "사과가 500원, 바나나 700원, 키위 1000원 일 때  \n",
    "사과 3개, 바나나1개, 키위2개 구매한 가격을 출력하시오. "
   ]
  },
  {
   "cell_type": "code",
   "execution_count": null,
   "metadata": {
    "tags": [
     "jce.problems.eom.win2022.3-1"
    ]
   },
   "outputs": [],
   "source": [
    "# 예제 1. 사과 3개, 바나나1개, 키위2개 구매한 가격은?\n"
   ]
  },
  {
   "cell_type": "markdown",
   "metadata": {},
   "source": [
    "#### 예제 2. 할인가격 계산하기\n",
    "2. 나이키 신발의 가격은 35000원이다. 다현은 vip라 20%의 가격을 할인 받아 구매할 수 있는데, 얼마를 지불해야하는가?"
   ]
  },
  {
   "cell_type": "code",
   "execution_count": null,
   "metadata": {
    "tags": [
     "jce.problems.eom.win2022.3-2"
    ]
   },
   "outputs": [],
   "source": [
    "# 예제 2. 할인가격 계산하기"
   ]
  },
  {
   "cell_type": "markdown",
   "metadata": {},
   "source": [
    "#### 예제 3. 키 출력하기\n",
    "1년마다 키가 10cm 씩 자라는 농구선수가 있다. 다음처럼 연도별 농구선수의 키를 출력해보자.\n",
    "*   2017년 - 175.5cm\n",
    "*   2018년 - 185.5cm\n",
    "*   2019년 - 195.5cm\n",
    "*   2020년 - 205.5cm\n",
    "\n",
    "\n",
    "년도별 농구선수의 키를 출력해보자. 변수는 year, height 2개를 사용할 수 있다. \n",
    "(아래를 참고하시오)"
   ]
  },
  {
   "cell_type": "markdown",
   "metadata": {},
   "source": [
    "\n",
    "\n",
    "\n",
    "\n"
   ]
  },
  {
   "cell_type": "code",
   "execution_count": null,
   "metadata": {
    "tags": [
     "jce.problems.eom.win2022.3-3"
    ]
   },
   "outputs": [],
   "source": [
    "# 예제 3 풀이하시오."
   ]
  },
  {
   "cell_type": "markdown",
   "metadata": {},
   "source": [
    "> 동일한 변수를 증가/감소시킬 때\n",
    "\n",
    "```\n",
    "# a에 3을 더하시오\n",
    "a = a+3\n",
    "```\n",
    "\n",
    "```\n",
    "# 간략하게 표현\n",
    "a += 3\n",
    "```"
   ]
  },
  {
   "cell_type": "markdown",
   "metadata": {},
   "source": [
    "#### 예제 4. 사람의 특징 출력하기\n",
    "변수에 이름, 키, 나이, 취미를 저장하고 다음과 같이 출력하시오.  \n",
    "  \n",
    "유리 키는 175.5 , 나이는 21 , 취미는 programming 입니다! "
   ]
  },
  {
   "cell_type": "code",
   "execution_count": null,
   "metadata": {
    "tags": [
     "jce.problems.eom.win2022.3-4"
    ]
   },
   "outputs": [],
   "source": [
    "# 예제 4 풀이"
   ]
  },
  {
   "cell_type": "markdown",
   "metadata": {},
   "source": [
    "##### 한 문장에 변수와 문자를 구분하기 위해 콤마를 사용하는 대신 .format()을 사용해도 됩니다.   \n",
    "##### .format() 명령어는 앞에 있는 문자들에서 {}를 찾아 .format()의 소괄호 안에 있는 값을 차례대로 넣어 줍니다. "
   ]
  },
  {
   "cell_type": "markdown",
   "metadata": {},
   "source": [
    "#### 예제 4-1. 사람의 특징 출력하기\n",
    ".format() 명령어를 활용하여 변수에 이름, 키, 나이, 취미를 저장하고 다음과 같이 출력하시오.  \n",
    "  \n",
    "유리 키는 175.5 , 나이는 21 , 취미는 programming 입니다! "
   ]
  },
  {
   "cell_type": "code",
   "execution_count": null,
   "metadata": {
    "tags": [
     "jce.problems.eom.win2022.3-4"
    ]
   },
   "outputs": [],
   "source": [
    "# 예제 4-1 풀이"
   ]
  },
  {
   "cell_type": "markdown",
   "metadata": {},
   "source": [
    "# 2. 데이터타입\n",
    "\n",
    "변수에 저장한 숫자나 문자 등을 모두 데이터라고 한다. \n",
    "대표적인 예는 다음과 같다.\n",
    "> 정수 int  (소수점이 없는 경우)\n",
    "\n",
    "> 실수 float (소수점이 있는 경우)\n",
    "\n",
    "> 문자 str (문자열 데이터)\n",
    "\n",
    "프로그래밍에서는 이런 정수, 실수, 문자를 데이터 타입이라고 합니다.  \n",
    "데이터는 자료를 의미하고, 타입은 유형이나 형태를 의미합니다.  "
   ]
  },
  {
   "cell_type": "markdown",
   "metadata": {},
   "source": [
    "type()은 데이터 타입을 알려 주는 명령어로, 소괄호 안에 데이터 타입을 알고 싶은 값을 넣습니다.      \n",
    "input()으로 입력받는 데이터는 모두 문자열(str)로 인식한다.\n"
   ]
  },
  {
   "cell_type": "markdown",
   "metadata": {},
   "source": [
    "#### 예제 5. 나이, 키 type 출력하기\n",
    "age는 26, height는 175.5 일때 age와 height의 type을 구해보시오. "
   ]
  },
  {
   "cell_type": "code",
   "execution_count": null,
   "metadata": {
    "tags": [
     "jce.problems.eom.win2022.3-5"
    ]
   },
   "outputs": [],
   "source": [
    "#예제 5 풀이 "
   ]
  },
  {
   "cell_type": "markdown",
   "metadata": {},
   "source": [
    "# 3. 데이터타입 변경하기\n",
    "변경하려는 데이터 타입으로 아래와 같이 감싸주면 데이터 타입이 변화한다. \n",
    "\n",
    "> 정수로 변경하기\n",
    "<br/> int(변수)\n",
    "\n",
    "> 실수로 변경하기\n",
    "<br/> float(변수)\n",
    "\n",
    "> 문자로 변경하기\n",
    "<br/> str(변수)\n",
    "\n"
   ]
  },
  {
   "cell_type": "markdown",
   "metadata": {},
   "source": [
    "#### 예제 6. 데이터 타입 이해하기\n",
    "수학점수 75, 국어점수 80일 때 두 시험 점수의 평균값을 소수점 포함해서 출력하시오. \n"
   ]
  },
  {
   "cell_type": "code",
   "execution_count": null,
   "metadata": {
    "tags": [
     "jce.problems.eom.win2022.3-6"
    ]
   },
   "outputs": [],
   "source": [
    "# 예제 6 \n"
   ]
  },
  {
   "cell_type": "markdown",
   "metadata": {},
   "source": [
    "# 4. 원의 둘레, 넓이, 구의 겉넓이, 부피 구하기\n",
    "\n",
    "<img src='https://github.com/teacher-jiejie/allinone_AI/blob/images/%EC%9B%90%20%EA%B4%80%EB%A0%A8%20%EA%B3%B5%EC%8B%9D.png?raw=true' width = 300>"
   ]
  },
  {
   "cell_type": "markdown",
   "metadata": {},
   "source": [
    "#### 예제 7. 반지름을 입력받아 데이터 다루기\n",
    "반지름을 입력받아서, 입력받은 반지름을 갖는 원의 둘레, 넓이, 구 겉넓이, 부피를 구하시오  \n",
    "파이 값은 3.141592이다."
   ]
  },
  {
   "cell_type": "code",
   "execution_count": null,
   "metadata": {
    "tags": [
     "jce.problems.eom.win2022.3-7"
    ]
   },
   "outputs": [],
   "source": [
    "# 예제 7. 풀이"
   ]
  },
  {
   "cell_type": "markdown",
   "metadata": {},
   "source": [
    "#### 예제 8. 변수를 사용한 간단한 프로그램 만들기\n",
    "마트에서 과자와 라면, 햄을 사려고 한다. 과자와 라면, 햄의 갯수를 입력받아 총 금액이 얼마인지 구하는 프로그램을 작성하자.  \n",
    "과자는 1200원, 라면은 800원, 햄은 2400원이다. "
   ]
  },
  {
   "cell_type": "code",
   "execution_count": null,
   "metadata": {
    "tags": [
     "jce.problems.eom.win2022.3-8"
    ]
   },
   "outputs": [],
   "source": [
    "# 예제 8. 풀이"
   ]
  }
 ],
 "metadata": {
  "colab": {
   "authorship_tag": "ABX9TyNGnVh31koOE8YKM/ttggOk",
   "collapsed_sections": [],
   "include_colab_link": true,
   "name": "3장-(실습용)-변수.ipynb",
   "provenance": []
  },
  "kernelspec": {
   "display_name": "Python 3 (ipykernel)",
   "language": "python",
   "name": "python3"
  },
  "language_info": {
   "codemirror_mode": {
    "name": "ipython",
    "version": 3
   },
   "file_extension": ".py",
   "mimetype": "text/x-python",
   "name": "python",
   "nbconvert_exporter": "python",
   "pygments_lexer": "ipython3",
   "version": "3.9.10"
  }
 },
 "nbformat": 4,
 "nbformat_minor": 4
}
