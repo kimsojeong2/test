{
 "cells": [
  {
   "cell_type": "markdown",
   "metadata": {
    "tags": []
   },
   "source": [
    "<a href=\"https://colab.research.google.com/github/teacher-jiejie/Lets-get-it-Python-Lecture/blob/main/2%EC%9E%A5_(%EC%8B%A4%EC%8A%B5%EC%9A%A9)_%EC%9E%85%EC%B6%9C%EB%A0%A5.ipynb\" target=\"_parent\"><img src=\"https://colab.research.google.com/assets/colab-badge.svg\" alt=\"Open In Colab\"/></a>"
   ]
  },
  {
   "cell_type": "markdown",
   "metadata": {},
   "source": [
    "\n",
    "# 1. 파이썬 명령어 형식\n",
    "<img src='https://github.com/teacher-jiejie/allinone_AI/blob/images/0_%EB%AA%85%EB%A0%B9%EC%96%B4.png?raw=true' width=400>"
   ]
  },
  {
   "cell_type": "markdown",
   "metadata": {},
   "source": [
    "컴퓨터가 사람(프로그램 사용자)이 내린 명령을 실행한 결과를 기기(모니터나 스마트폰 등)의 활면을 통해 보여주는 것을 출력이라고 합니다. "
   ]
  },
  {
   "cell_type": "markdown",
   "metadata": {},
   "source": [
    "# 2. 출력명령어 \n",
    "### 출력 명령어 형식\n",
    "\n",
    "\n",
    "> print( 출력할 내용 )\n",
    "\n",
    "\n"
   ]
  },
  {
   "cell_type": "markdown",
   "metadata": {},
   "source": [
    "### 예제 1 \n",
    "숫자 123을 출력해보세요."
   ]
  },
  {
   "cell_type": "code",
   "execution_count": null,
   "metadata": {
    "tags": []
   },
   "outputs": [
    {
     "name": "stdout",
     "output_type": "stream",
     "text": [
      "123\n"
     ]
    }
   ],
   "source": [
    "# 예제 1번은 여기에 풀어주세요.\n",
    "print(123)"
   ]
  },
  {
   "cell_type": "markdown",
   "metadata": {},
   "source": [
    "### 문자는 따옴표로 감싸주어야 함\n",
    "> print('문자')"
   ]
  },
  {
   "cell_type": "markdown",
   "metadata": {},
   "source": [
    "### 예제 2   \n",
    "본인의 이름을 출력해보세요. "
   ]
  },
  {
   "cell_type": "code",
   "execution_count": 1,
   "metadata": {
    "tags": [
     "jce.problems.eom.win2022.2-2"
    ]
   },
   "outputs": [
    {
     "name": "stdout",
     "output_type": "stream",
     "text": [
      "TeamMonolith\n"
     ]
    }
   ],
   "source": [
    "#예제 2번은 여기에 풀어주세요.\n",
    "print('TeamMonolith')\n",
    "# 정답입니다"
   ]
  },
  {
   "cell_type": "markdown",
   "metadata": {},
   "source": [
    "### 예제 3  \n",
    "핸드폰 번호를 출력해보세요."
   ]
  },
  {
   "cell_type": "code",
   "execution_count": null,
   "metadata": {
    "tags": [
     "jce.problems.eom.win2022.2-3"
    ]
   },
   "outputs": [],
   "source": [
    "#예제 3번은 여기에 풀어주세요."
   ]
  },
  {
   "cell_type": "markdown",
   "metadata": {},
   "source": [
    "다양한 연산을 하고 싶을 때 다음과 같은 연산자를 활용합니다.  \n",
    "사칙연산을 출력하기   \n",
    "더하기 : +, 빼기 : -, 곱하기 : *, 나누기 : /  \n",
    "\n",
    "기타 연산자 :  \n",
    "몫만 구하고 싶을 때 : //, 나머지 구하기 : %, 제곱 : **"
   ]
  },
  {
   "cell_type": "markdown",
   "metadata": {},
   "source": [
    "### 예제4  \n",
    "숫자 a = 5, b = 2일 때, 두 숫자의 합, 차, 곱하기,나누기, 몫, 나머지, 제곱을 출력해주세요. "
   ]
  },
  {
   "cell_type": "code",
   "execution_count": null,
   "metadata": {
    "tags": [
     "jce.problems.eom.win2022.2-4"
    ]
   },
   "outputs": [],
   "source": [
    "#예제 4번은 여기에 풀어주세요.\n",
    "\n",
    "# 더하기\n",
    "\n",
    "# 빼기\n",
    "\n",
    "# 곱하기\n",
    "\n",
    "# 나누기\n",
    "\n",
    "# 제곱\n",
    "\n",
    "# 몫\n",
    "\n",
    "# 나머지\n",
    "\n"
   ]
  },
  {
   "cell_type": "markdown",
   "metadata": {},
   "source": [
    "### 연결하여 출력하기 \n",
    "> print(  ,  )\n",
    "<br/>\n",
    "> print(  +  )"
   ]
  },
  {
   "cell_type": "markdown",
   "metadata": {},
   "source": [
    "숫자라 하더라도 따옴표로 감싸면 문자로 인식합니다  \n",
    "\n",
    "print('123')과 print(123+2), print('123'+2)를   \n",
    "실행하기전에 어떻게 나올지 비교해보세요.  \n"
   ]
  },
  {
   "cell_type": "markdown",
   "metadata": {},
   "source": [
    "숫자와 숫자를 연결하면 숫자끼리 연산한 값이 출력됩니다.   \n",
    "ex) print(13+45) -> 58  \n",
    "  \n",
    "문자들끼리는 연산자로 연결하면   \n",
    "ex) print('파이썬' + '프로그래밍') -> 파이썬프로그래밍  \n",
    "다음과 같이 출력됩니다.  \n",
    "  \n",
    "문자를 연결해 출력하는 방법에는 + 연산자외에도 콤마를 사용하는 방법이 있습니다.  \n",
    "  \n",
    "print('파이썬','프로그래밍') -> 파이썬 프로그래밍  \n",
    "  \n",
    "+로 연결된 것과는 다르게 중간에 공백이 한칸 생깁니다.   "
   ]
  },
  {
   "cell_type": "markdown",
   "metadata": {},
   "source": [
    "### 예제 5   \n",
    "본인 이름, 관심학과를 한 줄로 출력해보기   \n",
    "ex) 임영웅 실용음악과"
   ]
  },
  {
   "cell_type": "code",
   "execution_count": null,
   "metadata": {
    "tags": [
     "jce.problems.eom.win2022.2-5"
    ]
   },
   "outputs": [],
   "source": [
    "# 예제 5번은 여기에 풀어주세요.\n",
    "# 콤마, 로 연결하여 출력하기\n",
    "\n",
    "# 더하기 +로 연결하여 출력하기\n",
    "\n"
   ]
  },
  {
   "cell_type": "markdown",
   "metadata": {},
   "source": [
    "# 3. 입력명령어\n",
    "### 입력명령어 형식\n",
    ">## input('입력안내문')\n",
    "프로그램을 사용하다보면 로그인을 할 때 아이디나 \n",
    "비밀번호를 입력하듯이 정보를 자연스럽게 넣는 일이 많습니다. \n",
    "이렇게 사람이 직접 컴퓨터에 정보(데이터)를 넣어 주는 것을 의미합니다. "
   ]
  },
  {
   "cell_type": "markdown",
   "metadata": {},
   "source": [
    "### 예제 6  \n",
    "input()을 실행해보세요.   \n",
    "그러면 빈칸이 하나 나오고 실행 아이콘이 돌아갑니다.   \n",
    "빈칸에 파이썬이라고 입력하고 Enter키를 눌러봅시다.   "
   ]
  },
  {
   "cell_type": "code",
   "execution_count": null,
   "metadata": {
    "tags": [
     "jce.problems.eom.win2022.2-6"
    ]
   },
   "outputs": [],
   "source": [
    "#예제 6. input 함수 실행하기"
   ]
  },
  {
   "cell_type": "markdown",
   "metadata": {},
   "source": [
    "### 예제 7  \n",
    "아이디와 비밀번호를 입력하는 칸을 만들어봅시다.  \n",
    "아이디:  \n",
    "비밀번호:   "
   ]
  },
  {
   "cell_type": "code",
   "execution_count": null,
   "metadata": {
    "tags": [
     "jce.problems.eom.win2022.2-7"
    ]
   },
   "outputs": [],
   "source": [
    "#예제 7. 아이디, 비밀번호 입력창 만들기"
   ]
  },
  {
   "cell_type": "markdown",
   "metadata": {},
   "source": [
    "### 순차구조 \n",
    "순차구조는 차례대로(순서대로) 진행되는 구조를 의미합니다.  \n",
    "파이썬에서는 윗줄부터 아랫줄로 읽어 내려가면서 명령어가 차례로 실행됩니다.  \n",
    "\n",
    "<img src='https://github.com/teacher-jiejie/allinone_AI/blob/images/66_%E1%84%89%E1%85%AE%E1%86%AB%E1%84%8E%E1%85%A1%E1%84%80%E1%85%AE%E1%84%8C%E1%85%A9.png?raw=true' width=600>"
   ]
  },
  {
   "cell_type": "markdown",
   "metadata": {},
   "source": [
    "### 예제 8  \n",
    "위를 종합하여 아래와 같은 실행결과를 만들어보시오. \n",
    "\n",
    "\n",
    "--회원가입--  \n",
    "아이디 : monolith (입력창에 monolith 입력)   \n",
    "가입을 환영합니다!"
   ]
  },
  {
   "cell_type": "code",
   "execution_count": null,
   "metadata": {
    "tags": [
     "jce.problems.eom.win2022.2-8"
    ]
   },
   "outputs": [],
   "source": [
    "#예제 8. 입출력 종합1"
   ]
  },
  {
   "cell_type": "markdown",
   "metadata": {},
   "source": [
    "### 예제 9 \n",
    "위를 종합하여 아래와 같은 실행결과를 만들어보시오. \n",
    "\n",
    "\n",
    "--회원가입--  \n",
    "아이디 : monolith (입력창에 monolith 입력)   \n",
    "monolith님! 가입을 환영합니다!"
   ]
  },
  {
   "cell_type": "code",
   "execution_count": null,
   "metadata": {
    "tags": [
     "jce.problems.eom.win2022.2-9"
    ]
   },
   "outputs": [],
   "source": [
    "#예제9. 입출력 종합2"
   ]
  },
  {
   "cell_type": "markdown",
   "metadata": {
    "tags": []
   },
   "source": [
    "<a href=\"https://colab.research.google.com/github/teacher-jiejie/Lets-get-it-Python-Lecture/blob/main/2%EC%9E%A5_(%EC%8B%A4%EC%8A%B5%EC%9A%A9)_%EC%9E%85%EC%B6%9C%EB%A0%A5.ipynb\" target=\"_parent\"><img src=\"https://colab.research.google.com/assets/colab-badge.svg\" alt=\"Open In Colab\"/></a>"
   ]
  },
  {
   "cell_type": "markdown",
   "metadata": {},
   "source": [
    "\n",
    "# 1. 파이썬 명령어 형식\n",
    "<img src='https://github.com/teacher-jiejie/allinone_AI/blob/images/0_%EB%AA%85%EB%A0%B9%EC%96%B4.png?raw=true' width=400>"
   ]
  },
  {
   "cell_type": "markdown",
   "metadata": {},
   "source": [
    "컴퓨터가 사람(프로그램 사용자)이 내린 명령을 실행한 결과를 기기(모니터나 스마트폰 등)의 활면을 통해 보여주는 것을 출력이라고 합니다. "
   ]
  },
  {
   "cell_type": "markdown",
   "metadata": {},
   "source": [
    "# 2. 출력명령어 \n",
    "### 출력 명령어 형식\n",
    "\n",
    "\n",
    "> print( 출력할 내용 )\n",
    "\n",
    "\n"
   ]
  },
  {
   "cell_type": "markdown",
   "metadata": {},
   "source": [
    "### 예제 1 \n",
    "숫자 123을 출력해보세요."
   ]
  },
  {
   "cell_type": "code",
   "execution_count": null,
   "metadata": {
    "tags": []
   },
   "outputs": [
    {
     "name": "stdout",
     "output_type": "stream",
     "text": [
      "123\n"
     ]
    }
   ],
   "source": [
    "# 예제 1번은 여기에 풀어주세요.\n",
    "print(123)"
   ]
  },
  {
   "cell_type": "markdown",
   "metadata": {},
   "source": [
    "### 문자는 따옴표로 감싸주어야 함\n",
    "> print('문자')"
   ]
  },
  {
   "cell_type": "markdown",
   "metadata": {},
   "source": [
    "### 예제 2   \n",
    "본인의 이름을 출력해보세요. "
   ]
  },
  {
   "cell_type": "code",
   "execution_count": null,
   "metadata": {
    "tags": [
     "jce.problems.eom.win2022.2-2"
    ]
   },
   "outputs": [],
   "source": [
    "#예제 2번은 여기에 풀어주세요."
   ]
  },
  {
   "cell_type": "markdown",
   "metadata": {},
   "source": [
    "### 예제 3  \n",
    "핸드폰 번호를 출력해보세요."
   ]
  },
  {
   "cell_type": "code",
   "execution_count": null,
   "metadata": {
    "tags": [
     "jce.problems.eom.win2022.2-3"
    ]
   },
   "outputs": [],
   "source": [
    "#예제 3번은 여기에 풀어주세요."
   ]
  },
  {
   "cell_type": "markdown",
   "metadata": {},
   "source": [
    "다양한 연산을 하고 싶을 때 다음과 같은 연산자를 활용합니다.  \n",
    "사칙연산을 출력하기   \n",
    "더하기 : +, 빼기 : -, 곱하기 : *, 나누기 : /  \n",
    "\n",
    "기타 연산자 :  \n",
    "몫만 구하고 싶을 때 : //, 나머지 구하기 : %, 제곱 : **"
   ]
  },
  {
   "cell_type": "markdown",
   "metadata": {},
   "source": [
    "### 예제4  \n",
    "숫자 a = 5, b = 2일 때, 두 숫자의 합, 차, 곱하기,나누기, 몫, 나머지, 제곱을 출력해주세요. "
   ]
  },
  {
   "cell_type": "code",
   "execution_count": null,
   "metadata": {
    "tags": [
     "jce.problems.eom.win2022.2-4"
    ]
   },
   "outputs": [],
   "source": [
    "#예제 4번은 여기에 풀어주세요.\n",
    "\n",
    "# 더하기\n",
    "\n",
    "# 빼기\n",
    "\n",
    "# 곱하기\n",
    "\n",
    "# 나누기\n",
    "\n",
    "# 제곱\n",
    "\n",
    "# 몫\n",
    "\n",
    "# 나머지\n",
    "\n"
   ]
  },
  {
   "cell_type": "markdown",
   "metadata": {},
   "source": [
    "### 연결하여 출력하기 \n",
    "> print(  ,  )\n",
    "<br/>\n",
    "> print(  +  )"
   ]
  },
  {
   "cell_type": "markdown",
   "metadata": {},
   "source": [
    "숫자라 하더라도 따옴표로 감싸면 문자로 인식합니다  \n",
    "\n",
    "print('123')과 print(123+2), print('123'+2)를   \n",
    "실행하기전에 어떻게 나올지 비교해보세요.  \n"
   ]
  },
  {
   "cell_type": "markdown",
   "metadata": {},
   "source": [
    "숫자와 숫자를 연결하면 숫자끼리 연산한 값이 출력됩니다.   \n",
    "ex) print(13+45) -> 58  \n",
    "  \n",
    "문자들끼리는 연산자로 연결하면   \n",
    "ex) print('파이썬' + '프로그래밍') -> 파이썬프로그래밍  \n",
    "다음과 같이 출력됩니다.  \n",
    "  \n",
    "문자를 연결해 출력하는 방법에는 + 연산자외에도 콤마를 사용하는 방법이 있습니다.  \n",
    "  \n",
    "print('파이썬','프로그래밍') -> 파이썬 프로그래밍  \n",
    "  \n",
    "+로 연결된 것과는 다르게 중간에 공백이 한칸 생깁니다.   "
   ]
  },
  {
   "cell_type": "markdown",
   "metadata": {},
   "source": [
    "### 예제 5   \n",
    "본인 이름, 관심학과를 한 줄로 출력해보기   \n",
    "ex) 임영웅 실용음악과"
   ]
  },
  {
   "cell_type": "code",
   "execution_count": null,
   "metadata": {
    "tags": [
     "jce.problems.eom.win2022.2-5"
    ]
   },
   "outputs": [],
   "source": [
    "# 예제 5번은 여기에 풀어주세요.\n",
    "# 콤마, 로 연결하여 출력하기\n",
    "\n",
    "# 더하기 +로 연결하여 출력하기\n",
    "\n"
   ]
  },
  {
   "cell_type": "markdown",
   "metadata": {},
   "source": [
    "# 3. 입력명령어\n",
    "### 입력명령어 형식\n",
    ">## input('입력안내문')\n",
    "프로그램을 사용하다보면 로그인을 할 때 아이디나 \n",
    "비밀번호를 입력하듯이 정보를 자연스럽게 넣는 일이 많습니다. \n",
    "이렇게 사람이 직접 컴퓨터에 정보(데이터)를 넣어 주는 것을 의미합니다. "
   ]
  },
  {
   "cell_type": "markdown",
   "metadata": {},
   "source": [
    "### 예제 6  \n",
    "input()을 실행해보세요.   \n",
    "그러면 빈칸이 하나 나오고 실행 아이콘이 돌아갑니다.   \n",
    "빈칸에 파이썬이라고 입력하고 Enter키를 눌러봅시다.   "
   ]
  },
  {
   "cell_type": "code",
   "execution_count": null,
   "metadata": {
    "tags": [
     "jce.problems.eom.win2022.2-6"
    ]
   },
   "outputs": [],
   "source": [
    "#예제 6. input 함수 실행하기"
   ]
  },
  {
   "cell_type": "markdown",
   "metadata": {},
   "source": [
    "### 예제 7  \n",
    "아이디와 비밀번호를 입력하는 칸을 만들어봅시다.  \n",
    "아이디:  \n",
    "비밀번호:   "
   ]
  },
  {
   "cell_type": "code",
   "execution_count": null,
   "metadata": {
    "tags": [
     "jce.problems.eom.win2022.2-7"
    ]
   },
   "outputs": [],
   "source": [
    "#예제 7. 아이디, 비밀번호 입력창 만들기"
   ]
  },
  {
   "cell_type": "markdown",
   "metadata": {},
   "source": [
    "### 순차구조 \n",
    "순차구조는 차례대로(순서대로) 진행되는 구조를 의미합니다.  \n",
    "파이썬에서는 윗줄부터 아랫줄로 읽어 내려가면서 명령어가 차례로 실행됩니다.  \n",
    "\n",
    "<img src='https://github.com/teacher-jiejie/allinone_AI/blob/images/66_%E1%84%89%E1%85%AE%E1%86%AB%E1%84%8E%E1%85%A1%E1%84%80%E1%85%AE%E1%84%8C%E1%85%A9.png?raw=true' width=600>"
   ]
  },
  {
   "cell_type": "markdown",
   "metadata": {},
   "source": [
    "### 예제 8  \n",
    "위를 종합하여 아래와 같은 실행결과를 만들어보시오. \n",
    "\n",
    "\n",
    "--회원가입--  \n",
    "아이디 : monolith (입력창에 monolith 입력)   \n",
    "가입을 환영합니다!"
   ]
  },
  {
   "cell_type": "code",
   "execution_count": null,
   "metadata": {
    "tags": [
     "jce.problems.eom.win2022.2-8"
    ]
   },
   "outputs": [],
   "source": [
    "#예제 8. 입출력 종합1"
   ]
  },
  {
   "cell_type": "markdown",
   "metadata": {},
   "source": [
    "### 예제 9 \n",
    "위를 종합하여 아래와 같은 실행결과를 만들어보시오. \n",
    "\n",
    "\n",
    "--회원가입--  \n",
    "아이디 : monolith (입력창에 monolith 입력)   \n",
    "monolith님! 가입을 환영합니다!"
   ]
  },
  {
   "cell_type": "code",
   "execution_count": null,
   "metadata": {
    "tags": [
     "jce.problems.eom.win2022.2-9"
    ]
   },
   "outputs": [],
   "source": [
    "#예제9. 입출력 종합2"
   ]
  }
 ],
 "metadata": {
  "colab": {
   "authorship_tag": "ABX9TyMoMABF/ffzPMTjPVkAL/xo",
   "include_colab_link": true,
   "name": "2장-(실습용)-입출력.ipynb",
   "provenance": []
  },
  "kernelspec": {
   "display_name": "Python 3 (ipykernel)",
   "language": "python",
   "name": "python3"
  },
  "language_info": {
   "codemirror_mode": {
    "name": "ipython",
    "version": 3
   },
   "file_extension": ".py",
   "mimetype": "text/x-python",
   "name": "python",
   "nbconvert_exporter": "python",
   "pygments_lexer": "ipython3",
   "version": "3.9.10"
  }
 },
 "nbformat": 4,
 "nbformat_minor": 4
}
