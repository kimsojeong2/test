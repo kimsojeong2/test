{
 "cells": [
  {
   "cell_type": "markdown",
   "metadata": {
    "colab_type": "text",
    "id": "view-in-github",
    "tags": []
   },
   "source": [
    "<a href=\"https://colab.research.google.com/github/teacher-jiejie/Lets-get-it-Python-Lecture/blob/main/5%EC%9E%A5_(%EC%8B%A4%EC%8A%B5%EC%9A%A9)_%EB%B0%98%EB%B3%B5%EB%AC%B8.ipynb\" target=\"_parent\"><img src=\"https://colab.research.google.com/assets/colab-badge.svg\" alt=\"Open In Colab\"/></a>"
   ]
  },
  {
   "cell_type": "code",
   "execution_count": null,
   "metadata": {
    "id": "IQtiqCfit48u",
    "tags": [
     "jce.problems.팀모노리스고.정보.3차시.1번문제"
    ]
   },
   "outputs": [],
   "source": [
    "for a in [1,2,3,4,5]:\n",
    "    print('안녕하세요')"
   ]
  },
  {
   "cell_type": "code",
   "execution_count": 2,
   "metadata": {
    "id": "tGmtMY-Z0k8p",
    "tags": [
     "jce.problems.팀모노리스고.정보.3차시.3번문제"
    ]
   },
   "outputs": [
    {
     "name": "stdout",
     "output_type": "stream",
     "text": [
      "1 선생님, 다시는 청소를 빼먹지 않겠습니다.\n",
      "2 선생님, 다시는 청소를 빼먹지 않겠습니다.\n",
      "3 선생님, 다시는 청소를 빼먹지 않겠습니다.\n",
      "4 선생님, 다시는 청소를 빼먹지 않겠습니다.\n",
      "5 선생님, 다시는 청소를 빼먹지 않겠습니다.\n",
      "6 선생님, 다시는 청소를 빼먹지 않겠습니다.\n",
      "7 선생님, 다시는 청소를 빼먹지 않겠습니다.\n",
      "8 선생님, 다시는 청소를 빼먹지 않겠습니다.\n",
      "9 선생님, 다시는 청소를 빼먹지 않겠습니다.\n",
      "10 선생님, 다시는 청소를 빼먹지 않겠습니다.\n",
      "11 선생님, 다시는 청소를 빼먹지 않겠습니다.\n",
      "12 선생님, 다시는 청소를 빼먹지 않겠습니다.\n",
      "13 선생님, 다시는 청소를 빼먹지 않겠습니다.\n",
      "14 선생님, 다시는 청소를 빼먹지 않겠습니다.\n",
      "15 선생님, 다시는 청소를 빼먹지 않겠습니다.\n",
      "16 선생님, 다시는 청소를 빼먹지 않겠습니다.\n",
      "17 선생님, 다시는 청소를 빼먹지 않겠습니다.\n",
      "18 선생님, 다시는 청소를 빼먹지 않겠습니다.\n",
      "19 선생님, 다시는 청소를 빼먹지 않겠습니다.\n"
     ]
    }
   ],
   "source": [
    "for a in range(1,20):\n",
    "    print(a, '선생님, 다시는 청소를 빼먹지 않겠습니다.')"
   ]
  },
  {
   "cell_type": "markdown",
   "metadata": {
    "id": "_8ebt0AF1bAw"
   },
   "source": [
    "> range()에서 시작숫자가 0일 때에는 생략 가능"
   ]
  },
  {
   "cell_type": "code",
   "execution_count": 1,
   "metadata": {
    "id": "B1X6olKc1kuJ",
    "tags": [
     "jce.problems.팀모노리스고.정보.3차시.8번문제"
    ]
   },
   "outputs": [
    {
     "name": "stdout",
     "output_type": "stream",
     "text": [
      "0 선생님, 다시는 청소를 빼먹지 않겠습니다.\n",
      "1 선생님, 다시는 청소를 빼먹지 않겠습니다.\n",
      "2 선생님, 다시는 청소를 빼먹지 않겠습니다.\n",
      "3 선생님, 다시는 청소를 빼먹지 않겠습니다.\n",
      "4 선생님, 다시는 청소를 빼먹지 않겠습니다.\n",
      "5 선생님, 다시는 청소를 빼먹지 않겠습니다.\n",
      "6 선생님, 다시는 청소를 빼먹지 않겠습니다.\n",
      "7 선생님, 다시는 청소를 빼먹지 않겠습니다.\n",
      "8 선생님, 다시는 청소를 빼먹지 않겠습니다.\n",
      "9 선생님, 다시는 청소를 빼먹지 않겠습니다.\n",
      "10 선생님, 다시는 청소를 빼먹지 않겠습니다.\n",
      "11 선생님, 다시는 청소를 빼먹지 않겠습니다.\n",
      "12 선생님, 다시는 청소를 빼먹지 않겠습니다.\n",
      "13 선생님, 다시는 청소를 빼먹지 않겠습니다.\n",
      "14 선생님, 다시는 청소를 빼먹지 않겠습니다.\n",
      "15 선생님, 다시는 청소를 빼먹지 않겠습니다.\n",
      "16 선생님, 다시는 청소를 빼먹지 않겠습니다.\n",
      "17 선생님, 다시는 청소를 빼먹지 않겠습니다.\n",
      "18 선생님, 다시는 청소를 빼먹지 않겠습니다.\n",
      "19 선생님, 다시는 청소를 빼먹지 않겠습니다.\n"
     ]
    }
   ],
   "source": [
    "for a in range(20):\n",
    "    print(a, '선생님, 다시는 청소를 빼먹지 않겠습니다.')"
   ]
  },
  {
   "cell_type": "code",
   "execution_count": null,
   "metadata": {
    "tags": [
     "jce.problems.eom.win2022.5-2"
    ]
   },
   "outputs": [],
   "source": [
    "## 2번은 이곳에 푸시오. "
   ]
  },
  {
   "cell_type": "code",
   "execution_count": null,
   "metadata": {
    "tags": [
     "jce.problems.eom.win2022.5-3"
    ]
   },
   "outputs": [],
   "source": [
    "## 3번은 이곳에 푸시오."
   ]
  },
  {
   "cell_type": "code",
   "execution_count": null,
   "metadata": {
    "id": "qQGYUE-M4nZD",
    "tags": [
     "jce.problems.팀모노리스고.정보.3차시.6번문제"
    ]
   },
   "outputs": [],
   "source": [
    "result =0\n",
    "for i in range (1,51):\n",
    "    result = result+i\n",
    "print(i)"
   ]
  },
  {
   "cell_type": "code",
   "execution_count": 5,
   "metadata": {
    "id": "3g1T-QQw5u2b",
    "tags": [
     "jce.problems.팀모노리스고.정보.3차시.7번문제"
    ]
   },
   "outputs": [
    {
     "name": "stdout",
     "output_type": "stream",
     "text": [
      "4 x 1 = 4\n",
      "4 x 2 = 8\n",
      "4 x 3 = 12\n",
      "4 x 4 = 16\n",
      "4 x 5 = 20\n",
      "4 x 6 = 24\n",
      "4 x 7 = 28\n",
      "4 x 8 = 32\n",
      "4 x 9 = 36\n"
     ]
    }
   ],
   "source": [
    "a = 4\n",
    "for i in range(1,10):\n",
    "    print('4 x',i,'=',i*a)"
   ]
  },
  {
   "cell_type": "code",
   "execution_count": 12,
   "metadata": {
    "id": "as2Vnvfb8eV-",
    "tags": [
     "jce.problems.팀모노리스고.정보.3차시.15번문제"
    ]
   },
   "outputs": [
    {
     "name": "stdout",
     "output_type": "stream",
     "text": [
      "0.8678249574672912 9 10\n"
     ]
    }
   ],
   "source": [
    "import random\n",
    "a = random.random() \n",
    "b = random.randrange(1,10,2)\n",
    "c = random.randint(1,10)\n",
    "\n",
    "print(a,b,c)"
   ]
  },
  {
   "cell_type": "code",
   "execution_count": 19,
   "metadata": {
    "tags": [
     "jce.problems.팀모노리스고.정보.3차시.19번문제"
    ]
   },
   "outputs": [
    {
     "name": "stdin",
     "output_type": "stream",
     "text": [
      "3x6? 18\n"
     ]
    },
    {
     "name": "stdout",
     "output_type": "stream",
     "text": [
      "정답입니다\n"
     ]
    },
    {
     "name": "stdin",
     "output_type": "stream",
     "text": [
      "4x9? 36\n"
     ]
    },
    {
     "name": "stdout",
     "output_type": "stream",
     "text": [
      "정답입니다\n"
     ]
    },
    {
     "name": "stdin",
     "output_type": "stream",
     "text": [
      "8x4? 24\n"
     ]
    },
    {
     "name": "stdout",
     "output_type": "stream",
     "text": [
      "틀렸습니다\n"
     ]
    }
   ],
   "source": [
    "import random\n",
    "\n",
    "for i in range(3): \n",
    "    a,b = random.randint(1,9), random.randint(1,9)\n",
    "    question = str(a) + 'x'+str(b)+'?'\n",
    "    answer = int(input(question))\n",
    "    if answer!=a*b:\n",
    "        print('틀렸습니다')\n",
    "    else:\n",
    "        print('정답입니다')"
   ]
  }
 ],
 "metadata": {
  "colab": {
   "authorship_tag": "ABX9TyMcE5ntGFL+TDNIjiuvWBV3",
   "collapsed_sections": [],
   "include_colab_link": true,
   "name": "5장-(실습용)-반복문.ipynb",
   "provenance": []
  },
  "kernelspec": {
   "display_name": "Python 3 (ipykernel)",
   "language": "python",
   "name": "python3"
  },
  "language_info": {
   "codemirror_mode": {
    "name": "ipython",
    "version": 3
   },
   "file_extension": ".py",
   "mimetype": "text/x-python",
   "name": "python",
   "nbconvert_exporter": "python",
   "pygments_lexer": "ipython3",
   "version": "3.9.10"
  }
 },
 "nbformat": 4,
 "nbformat_minor": 4
}
